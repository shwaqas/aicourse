{
 "cells": [
  {
   "cell_type": "markdown",
   "metadata": {},
   "source": [
    "# 1. Indexing \n",
    "### Write code for retriving values from list by indexing and print a statement message for given lists\n",
    "### Example 1\n",
    "* employee_data = ['Ali', 125000, 'Google', 5]\n",
    "* output: 'Ali is working in Google for 5 years and his salary is 125000'"
   ]
  },
  {
   "cell_type": "code",
   "execution_count": 1,
   "metadata": {},
   "outputs": [],
   "source": [
    "employee_data = ['Ali',12500,'Google',5]"
   ]
  },
  {
   "cell_type": "code",
   "execution_count": 2,
   "metadata": {},
   "outputs": [
    {
     "name": "stdout",
     "output_type": "stream",
     "text": [
      "Ali is working in Google for 5 years and his salary is 12500\n"
     ]
    }
   ],
   "source": [
    "print(employee_data[0], \"is working in\",employee_data[2],'for',employee_data[3],'years and his salary is',employee_data[1])"
   ]
  },
  {
   "cell_type": "markdown",
   "metadata": {},
   "source": [
    "## Example 2\n",
    "* studentData = ['Ahmed', 'Bilal', 'Government College University', 'Computer Science', 'BS', 50000,\n",
    "\t\t\t\t'28 Januray 2020', '05 February 2020']\n",
    "### output:\n",
    "\n",
    "'Hello Ahmed Bilal,\n",
    "Your application is accepted for admission in \"BS Computer Science\" in Government College University.\n",
    "You have to submit fee 50000 before 28 January 2020.\n",
    "Your classes will start from 05 February 2020.\n",
    "Thanks'"
   ]
  },
  {
   "cell_type": "code",
   "execution_count": 4,
   "metadata": {},
   "outputs": [],
   "source": [
    "studentData = ['Ahmed', 'Bilal', 'Government College University', 'Computer Science', 'BS', 50000,\n",
    "          '28 Januray 2020', '05 February 2020']"
   ]
  },
  {
   "cell_type": "code",
   "execution_count": 5,
   "metadata": {},
   "outputs": [
    {
     "name": "stdout",
     "output_type": "stream",
     "text": [
      "Hello Ahmed Bilal , Your application is accepted for admission in\" BS Computer Science  \"in Government College University You have to submit fee 50000 before 28 Januray 2020 Your classes will start from 05 February 2020 .Thanks'\n"
     ]
    }
   ],
   "source": [
    "print('Hello',studentData[0],studentData[1],',','Your application is accepted for admission in\"',\n",
    "      studentData[4],studentData[3],' \"in',studentData[2],'You have to submit fee',studentData[-3],\n",
    "      'before',studentData[-2],'Your classes will start from',studentData[-1],\".Thanks'\")"
   ]
  },
  {
   "cell_type": "markdown",
   "metadata": {},
   "source": [
    "# 2. Slicing"
   ]
  },
  {
   "cell_type": "markdown",
   "metadata": {},
   "source": [
    "### Outputs:\n",
    "#### (For positive slicing)\n",
    "1. [\"Faisalabad\", \"Lahore\", \"Islamabad\", \"Peshawar\"]\n",
    "2. [\"Islamabad\", \"Peshawar\", \"Quetta\", \"Sahiwal\"]\n",
    "3. [\"Sahiwal\", \"Rawalpindi\", \"Sialkot\"]\n",
    "\n",
    "#### (For negative slicing)\n",
    "1. ['Quetta', 'Sahiwal', 'Rawalpindi']\n",
    "2. ['Peshawar', 'Quetta', 'Sahiwal', 'Rawalpindi', 'Sialkot']"
   ]
  },
  {
   "cell_type": "code",
   "execution_count": 1,
   "metadata": {},
   "outputs": [],
   "source": [
    "cities = [\"Faisalabad\", \"Lahore\", \"Islamabad\", \"Peshawar\", \"Quetta\", \"Sahiwal\", \"Rawalpindi\", \"Sialkot\"]"
   ]
  },
  {
   "cell_type": "code",
   "execution_count": 2,
   "metadata": {},
   "outputs": [
    {
     "name": "stdout",
     "output_type": "stream",
     "text": [
      "['Faisalabad', 'Lahore', 'Islamabad', 'Peshawar']\n",
      "['Islamabad', 'Peshawar', 'Quetta', 'Sahiwal']\n",
      "['Sahiwal', 'Rawalpindi', 'Sialkot']\n"
     ]
    }
   ],
   "source": [
    "print(cities[0:4])\n",
    "print(cities[2:6])\n",
    "print(cities[5:8])"
   ]
  },
  {
   "cell_type": "code",
   "execution_count": 3,
   "metadata": {},
   "outputs": [
    {
     "name": "stdout",
     "output_type": "stream",
     "text": [
      "['Quetta', 'Sahiwal', 'Rawalpindi']\n",
      "['Peshawar', 'Quetta', 'Sahiwal', 'Rawalpindi']\n"
     ]
    }
   ],
   "source": [
    "print(cities[-4:-1])\n",
    "print(cities[-5:-1])"
   ]
  },
  {
   "cell_type": "markdown",
   "metadata": {},
   "source": [
    "# 3.Update Lists\n"
   ]
  },
  {
   "cell_type": "markdown",
   "metadata": {},
   "source": [
    "### * You have a list of student information. You need to update it for following statements\n",
    "* Add values to this list using append\n",
    "* studentData = [\"Ali Raza\", 22, 91.24, \"Computer Science\", 5, \"University of Agriculture\"] \n",
    "#### Add values to this list using append\n",
    "    * 1. '20 February 2019'\n",
    "      2. 8"
   ]
  },
  {
   "cell_type": "code",
   "execution_count": 4,
   "metadata": {},
   "outputs": [],
   "source": [
    "studentData = [\"Ali Raza\", 22, 91.24, \"Computer Science\", 5, \"University of Agriculture\"]"
   ]
  },
  {
   "cell_type": "code",
   "execution_count": 5,
   "metadata": {},
   "outputs": [
    {
     "name": "stdout",
     "output_type": "stream",
     "text": [
      "['Ali Raza', 22, 91.24, 'Computer Science', 5, 'University of Agriculture', \"'20 February 2019'\", '8']\n"
     ]
    }
   ],
   "source": [
    "studentData.append(\"'20 February 2019'\")\n",
    "studentData.append(\"8\")\n",
    "print(studentData)"
   ]
  },
  {
   "cell_type": "markdown",
   "metadata": {},
   "source": [
    "#### Use insert method to insert at specific index\n",
    "* 1. 25000 at index 4\n",
    "* 2. 'M. Iqbal' at index 1\n"
   ]
  },
  {
   "cell_type": "code",
   "execution_count": 6,
   "metadata": {},
   "outputs": [
    {
     "name": "stdout",
     "output_type": "stream",
     "text": [
      "['Ali Raza', \"'M. Iqbal'\", 22, 91.24, 'Computer Science', 25000, 5, 'University of Agriculture', \"'20 February 2019'\", '8']\n"
     ]
    }
   ],
   "source": [
    "studentData.insert(4,25000)\n",
    "studentData.insert(1,\"'M. Iqbal'\")\n",
    "print(studentData)"
   ]
  },
  {
   "cell_type": "markdown",
   "metadata": {},
   "source": [
    "#### Remove values from list using remove method\n",
    "1. 'Computer Science'\n",
    "2. 91.24"
   ]
  },
  {
   "cell_type": "code",
   "execution_count": 7,
   "metadata": {},
   "outputs": [
    {
     "name": "stdout",
     "output_type": "stream",
     "text": [
      "['Ali Raza', \"'M. Iqbal'\", 22, 25000, 5, 'University of Agriculture', \"'20 February 2019'\", '8']\n"
     ]
    }
   ],
   "source": [
    "studentData.remove('Computer Science')\n",
    "studentData.remove(91.24)\n",
    "print(studentData)"
   ]
  },
  {
   "cell_type": "markdown",
   "metadata": {},
   "source": [
    "#### Remove using pop method\n",
    "\n",
    "1. Last value from list\n",
    "2. value at 3rd index"
   ]
  },
  {
   "cell_type": "code",
   "execution_count": 9,
   "metadata": {},
   "outputs": [
    {
     "name": "stdout",
     "output_type": "stream",
     "text": [
      "['Ali Raza', \"'M. Iqbal'\", 22, 5, 'University of Agriculture', \"'20 February 2019'\"]\n"
     ]
    }
   ],
   "source": [
    "studentData.pop(-1)\n",
    "studentData.pop(3)\n",
    "print(studentData)"
   ]
  },
  {
   "cell_type": "markdown",
   "metadata": {},
   "source": [
    "#### Update list using list update method:\n",
    "\n",
    "1. Change Name from 'Ali Raza' to 'Zohaib Ali'\n",
    "2. Change No of subjects from 5 to 7"
   ]
  },
  {
   "cell_type": "code",
   "execution_count": 10,
   "metadata": {},
   "outputs": [
    {
     "name": "stdout",
     "output_type": "stream",
     "text": [
      "['Zohaib Ali', \"'M. Iqbal'\", 22, 7, 'University of Agriculture', \"'20 February 2019'\"]\n"
     ]
    }
   ],
   "source": [
    "studentData[0]=\"Zohaib Ali\"\n",
    "studentData[3]=7\n",
    "print(studentData)"
   ]
  },
  {
   "cell_type": "markdown",
   "metadata": {},
   "source": [
    "# 4. Multidimensional list tasks\n",
    "## You have given data of an employee\n",
    "employeeData = [[\"Ali\", 35000, \"Software Engineer\"],\n",
    "\t\t\t\t[\"Talha\", 55000, \"Product Manager\"],\n",
    "\t\t\t\t[\"Nasir\", 79000, \"Computer Engineer\"],\n",
    "\t\t\t\t[\"Khalid\", 44000, \"DBA\"]]"
   ]
  },
  {
   "cell_type": "markdown",
   "metadata": {},
   "source": [
    "### For Loop\n",
    "### Tasks\n",
    "1. Print name of employees with salaray greater than 50000.\n",
    "2. Calculate total salary of all employees."
   ]
  },
  {
   "cell_type": "code",
   "execution_count": 12,
   "metadata": {},
   "outputs": [],
   "source": [
    "employeeData = [[\"Ali\", 35000, \"Software Engineer\"], [\"Talha\", 55000, \"Product Manager\"],\n",
    "                [\"Nasir\", 79000, \"Computer Engineer\"], [\"Khalid\", 44000, \"DBA\"]]"
   ]
  },
  {
   "cell_type": "code",
   "execution_count": null,
   "metadata": {},
   "outputs": [],
   "source": [
    "# Print name of employees with salaray greater than 50000."
   ]
  },
  {
   "cell_type": "code",
   "execution_count": 13,
   "metadata": {},
   "outputs": [
    {
     "name": "stdout",
     "output_type": "stream",
     "text": [
      "Talha\n",
      "Nasir\n"
     ]
    }
   ],
   "source": [
    "for i in employeeData:\n",
    "    salary = i[-2]\n",
    "    employee = i [-3]\n",
    "    if salary >= 50000:\n",
    "        print (employee)"
   ]
  },
  {
   "cell_type": "code",
   "execution_count": 14,
   "metadata": {},
   "outputs": [],
   "source": [
    "# Calculate total salary of all employees."
   ]
  },
  {
   "cell_type": "code",
   "execution_count": 15,
   "metadata": {},
   "outputs": [],
   "source": [
    "total_salary=0\n",
    "for t_salary in employeeData:\n",
    "    total_salary=total_salary+t_salary[-2]"
   ]
  },
  {
   "cell_type": "code",
   "execution_count": 16,
   "metadata": {},
   "outputs": [
    {
     "data": {
      "text/plain": [
       "213000"
      ]
     },
     "execution_count": 16,
     "metadata": {},
     "output_type": "execute_result"
    }
   ],
   "source": [
    "total_salary"
   ]
  },
  {
   "cell_type": "markdown",
   "metadata": {},
   "source": [
    "### List update tasks\n",
    "1. Change salary of nasir from 79000 to 90000 and designation to \"Product Manager\"\n",
    "2. Change salary of Khalid to 50000"
   ]
  },
  {
   "cell_type": "code",
   "execution_count": 17,
   "metadata": {},
   "outputs": [],
   "source": [
    "# Change salary of nasir from 79000 to 90000 and designation to \"Product Manager\""
   ]
  },
  {
   "cell_type": "code",
   "execution_count": 18,
   "metadata": {},
   "outputs": [
    {
     "data": {
      "text/plain": [
       "[['Ali', 35000, 'Software Engineer'],\n",
       " ['Talha', 55000, 'Product Manager'],\n",
       " ['Nasir', 90000, 'Computer Engineer'],\n",
       " ['Khalid', 44000, 'DBA']]"
      ]
     },
     "execution_count": 18,
     "metadata": {},
     "output_type": "execute_result"
    }
   ],
   "source": [
    "employeeData[2][1]=90000\n",
    "employeeData"
   ]
  },
  {
   "cell_type": "code",
   "execution_count": 19,
   "metadata": {},
   "outputs": [],
   "source": [
    "# Change salary of Khalid to 50000"
   ]
  },
  {
   "cell_type": "code",
   "execution_count": 20,
   "metadata": {},
   "outputs": [
    {
     "data": {
      "text/plain": [
       "[['Ali', 35000, 'Software Engineer'],\n",
       " ['Talha', 55000, 'Product Manager'],\n",
       " ['Nasir', 90000, 'Computer Engineer'],\n",
       " ['Khalid', 50000, 'DBA']]"
      ]
     },
     "execution_count": 20,
     "metadata": {},
     "output_type": "execute_result"
    }
   ],
   "source": [
    "employeeData[-1][1]=50000\n",
    "employeeData"
   ]
  },
  {
   "cell_type": "markdown",
   "metadata": {},
   "source": [
    "# 5. Login User\n",
    "You have given some users data.\n",
    "* You have to write a script to check if username and password are correct.\n",
    "* If username and password are correct. Then you have to check if email is verified or not. \n",
    "* If it is verified then print Login Succeed else print Email not verified. \n",
    "* If username or password are incorrect you have to print Incorrect Login details"
   ]
  },
  {
   "cell_type": "code",
   "execution_count": 21,
   "metadata": {},
   "outputs": [],
   "source": [
    "# Data 1\n",
    "username = \"faizan1214\"\n",
    "password = \"qwerty\"\n",
    "emailVerified = False"
   ]
  },
  {
   "cell_type": "code",
   "execution_count": 22,
   "metadata": {},
   "outputs": [
    {
     "name": "stdout",
     "output_type": "stream",
     "text": [
      "Login Succeed\n"
     ]
    }
   ],
   "source": [
    "if username==\"faizan1214\" and password == \"qwerty\" and emailVerified == False:\n",
    "        print(\"Login Succeed\")\n",
    "else:\n",
    "        print(\"Email Not Varified\")"
   ]
  },
  {
   "cell_type": "code",
   "execution_count": 24,
   "metadata": {},
   "outputs": [],
   "source": [
    "    # Data 2\n",
    "username = \"faizan1214\"\n",
    "password = \"qwerty\"\n",
    "emailVerified = True"
   ]
  },
  {
   "cell_type": "code",
   "execution_count": 23,
   "metadata": {},
   "outputs": [
    {
     "name": "stdout",
     "output_type": "stream",
     "text": [
      "Email Not Varified\n"
     ]
    }
   ],
   "source": [
    "if username==\"faizan1214\" and password == \"qwerty\" and emailVerified == True:\n",
    "        print(\"Login Succeed\")\n",
    "else:\n",
    "        print(\"Email Not Varified\")"
   ]
  },
  {
   "cell_type": "code",
   "execution_count": null,
   "metadata": {},
   "outputs": [],
   "source": []
  }
 ],
 "metadata": {
  "kernelspec": {
   "display_name": "Python 3",
   "language": "python",
   "name": "python3"
  },
  "language_info": {
   "codemirror_mode": {
    "name": "ipython",
    "version": 3
   },
   "file_extension": ".py",
   "mimetype": "text/x-python",
   "name": "python",
   "nbconvert_exporter": "python",
   "pygments_lexer": "ipython3",
   "version": "3.7.4"
  }
 },
 "nbformat": 4,
 "nbformat_minor": 2
}
